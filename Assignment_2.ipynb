{
 "cells": [
  {
   "cell_type": "code",
   "execution_count": null,
   "metadata": {},
   "outputs": [],
   "source": [
    "import numpy as np\n",
    "import pandas as pd\n",
    "import matplotlib.pyplot as plt\n",
    "import seaborn as sns\n",
    "import random\n",
    "from scipy.optimize import minimize\n",
    "import prettytable\n",
    "import plotly.graph_objects as go\n",
    "import os\n",
    "import math\n",
    "import plotly.express as px\n",
    "\n",
    "random.seed(0) # Setting random seed to 0\n",
    "%matplotlib inline\n"
   ]
  },
  {
   "attachments": {},
   "cell_type": "markdown",
   "metadata": {},
   "source": [
    "### Sustainable and Entrepreneurial Finance\n",
    "\n",
    "### Assignment 2 - Portfolio decarbonization\n",
    "\n",
    "#### Group 8 - Energy Firms With Available Scope 1 to 3 emissions (TRUCOST)\n",
    "\n",
    "- Charlotte Ahrens\n",
    "- David Campbell\n",
    "- Guillaume Rico\n",
    "- Per Christian Wessel\n"
   ]
  },
  {
   "attachments": {},
   "cell_type": "markdown",
   "metadata": {},
   "source": [
    "### 0 Importing and preparing datasets"
   ]
  },
  {
   "cell_type": "code",
   "execution_count": null,
   "metadata": {},
   "outputs": [],
   "source": [
    "# Setting path names\n",
    "github_path = 'https://github.com/percw/Sustainable_and_Entrepreneurial_Finance/blob/master'\n",
    "\n",
    "# Scope 1-3 Intensity Paths\n",
    "path_scope1_intensity = f'{github_path}/Data_Excel/Trucost_CO2emissions/scope1intensity.xlsx?raw=true'\n",
    "path_scope2_intensity = f'{github_path}/Data_Excel/Trucost_CO2emissions/scope2intensity.xlsx?raw=true'\n",
    "path_scope3_intensity = f'{github_path}/Data_Excel/Trucost_CO2emissions/scope3intensity.xlsx?raw=true'\n",
    "\n",
    "# Reading df's\n",
    "df_scope1_intensity = pd.read_excel(path_scope1_intensity)\n",
    "df_scope2_intensity = pd.read_excel(path_scope2_intensity)\n",
    "df_scope3_intensity = pd.read_excel(path_scope3_intensity)\n",
    "\n",
    "# Dataframe created during Homework 1 (corresponding to Q2 First df)\n",
    "path_all_energy_monthly_yearly_returns_cap = f'{github_path}/output/all_energy_monthly_yearly_returns_cap.csv?raw=true'\n",
    "df_all_energy_monthly_yearly_returns_cap = pd.read_csv(path_all_energy_monthly_yearly_returns_cap)\n",
    "\n",
    "# Dataframe created during Homework 1 (corresponding to Q2 Second, comparison df with value weighted and equally weighted portfolio)\n",
    "path_all_energy_monthly_yearly_returns_cap_vw = f'{github_path}/output/df_all_energy_monthly_yearly_returns_cap_vw.csv?raw=true'\n",
    "df_all_energy_monthly_yearly_returns_cap_vw = pd.read_csv(path_all_energy_monthly_yearly_returns_cap_vw)\n"
   ]
  },
  {
   "attachments": {},
   "cell_type": "markdown",
   "metadata": {},
   "source": [
    "A little cleaning of the double index column, thus removing `Unnamed: 0`."
   ]
  },
  {
   "cell_type": "code",
   "execution_count": null,
   "metadata": {},
   "outputs": [],
   "source": [
    "df_all_energy_monthly_yearly_returns_cap.drop(columns={'Unnamed: 0'}, inplace=True)\n",
    "display(df_all_energy_monthly_yearly_returns_cap.head())"
   ]
  },
  {
   "attachments": {},
   "cell_type": "markdown",
   "metadata": {},
   "source": [
    "Checking out the intensity data and removing the x in the column name"
   ]
  },
  {
   "cell_type": "code",
   "execution_count": null,
   "metadata": {},
   "outputs": [],
   "source": [
    "df_scope1_intensity.describe()\n",
    "\n",
    "# Replacing the x before every year\n",
    "df_scope1_intensity.columns = df_scope1_intensity.columns.str.replace('x','')\n",
    "display(df_scope1_intensity.head())\n",
    "display(df_scope1_intensity.shape)\n",
    "df_scope1_intensity.isna().sum()"
   ]
  },
  {
   "attachments": {},
   "cell_type": "markdown",
   "metadata": {},
   "source": [
    "We can see that up until 2005 we have only NaNs."
   ]
  },
  {
   "attachments": {},
   "cell_type": "markdown",
   "metadata": {},
   "source": [
    "Lets create a function that takes in a dataframe and transforms all the different year columns into one column named year, and let each ISIN/company have as many observations as years."
   ]
  },
  {
   "cell_type": "code",
   "execution_count": null,
   "metadata": {},
   "outputs": [],
   "source": [
    "def transform_emission_dataframe(df: pd.DataFrame, id_vars: list, var_name: str, value_name: str) -> pd.DataFrame:\n",
    "    '''\n",
    "    Function that takes in a df frame and melts it on given column names\n",
    "    Returns a dataframe\n",
    "    '''\n",
    "    # Melt the dataframe to convert it from wide to long format\n",
    "    df_long = df.melt(id_vars=id_vars,\n",
    "                      var_name=var_name, value_name=value_name)\n",
    "\n",
    "    # Convert the year column to integer data type\n",
    "    df_long['year'] = df_long['year'].astype(int)\n",
    "\n",
    "    # Drop rows with missing values\n",
    "    df_long.dropna(inplace=True)\n",
    "\n",
    "    # Sort the dataframe by ISIN and year\n",
    "    df_long.sort_values(['year', 'ISIN'], inplace=True)\n",
    "\n",
    "    # Reset the index\n",
    "    df_long.reset_index(drop=True, inplace=True)\n",
    "\n",
    "    # Print the resulting dataframe\n",
    "    return df_long\n"
   ]
  },
  {
   "cell_type": "code",
   "execution_count": null,
   "metadata": {},
   "outputs": [],
   "source": [
    "transformed_scope1 = transform_emission_dataframe(df_scope1_intensity, id_vars=['ISIN', 'NAME'], var_name='year', value_name='Scope_1')\n",
    "display(transformed_scope1.head())\n",
    "display(transformed_scope1.shape)"
   ]
  },
  {
   "attachments": {},
   "cell_type": "markdown",
   "metadata": {},
   "source": [
    "This looks good. Let's do the same with the Scope 2 and Scope 3 emission intensities as well. First we need to remember to remove the x before all the years."
   ]
  },
  {
   "cell_type": "code",
   "execution_count": null,
   "metadata": {},
   "outputs": [],
   "source": [
    "# Removing x from column name\n",
    "df_scope2_intensity.columns = df_scope2_intensity.columns.str.replace('x','')\n",
    "df_scope3_intensity.columns = df_scope3_intensity.columns.str.replace('x','')\n",
    "\n",
    "# Transforming data\n",
    "transformed_scope2 = transform_emission_dataframe(df_scope2_intensity, id_vars=['ISIN', 'NAME'], var_name='year', value_name='Scope_2')\n",
    "transformed_scope3 = transform_emission_dataframe(df_scope3_intensity, id_vars=['ISIN', 'NAME'], var_name='year', value_name='Scope_3')\n",
    "\n",
    "# Displaying data\n",
    "display(transformed_scope2.head())\n",
    "display(transformed_scope2.shape)\n",
    "display(transformed_scope3.head())\n",
    "display(transformed_scope3.shape)"
   ]
  },
  {
   "attachments": {},
   "cell_type": "markdown",
   "metadata": {},
   "source": [
    "Great, now we need to make sure that we only extract the energy companies with sector 'GICSIG'.\n",
    "This we can do by creating a list of all the companies in the dataframe `df_all_energy_monthly_yearly_returns_cap`."
   ]
  },
  {
   "cell_type": "code",
   "execution_count": null,
   "metadata": {},
   "outputs": [],
   "source": [
    "energy_isin = df_all_energy_monthly_yearly_returns_cap['ISIN'].unique().tolist()\n",
    "len(energy_isin)"
   ]
  },
  {
   "attachments": {},
   "cell_type": "markdown",
   "metadata": {},
   "source": [
    "We have 185 companies different companies, which is coherent with Homework 1. Now we only want to extract the Scope 1-3 data on the companies that have an `ISIN` matching one of the elements in our `energy_isin` list."
   ]
  },
  {
   "cell_type": "code",
   "execution_count": null,
   "metadata": {},
   "outputs": [],
   "source": [
    "transformed_scope1_nrg = transformed_scope1[transformed_scope1['ISIN'].isin(energy_isin)].copy()\n",
    "transformed_scope2_nrg = transformed_scope2[transformed_scope2['ISIN'].isin(energy_isin)].copy()\n",
    "transformed_scope3_nrg = transformed_scope3[transformed_scope3['ISIN'].isin(energy_isin)].copy()\n",
    "transformed_scope1_nrg.head()"
   ]
  },
  {
   "cell_type": "code",
   "execution_count": null,
   "metadata": {},
   "outputs": [],
   "source": [
    "observation_scope1 = transformed_scope1_nrg[['ISIN', 'year']].groupby(['year']).count()\n",
    "observation_scope2 = transformed_scope2_nrg[['ISIN', 'year']].groupby(['year']).count()\n",
    "observation_scope3 = transformed_scope3_nrg[['ISIN', 'year']].groupby(['year']).count()\n",
    "\n",
    "print(observation_scope1.equals(observation_scope2) & observation_scope2.equals(observation_scope3))"
   ]
  },
  {
   "attachments": {},
   "cell_type": "markdown",
   "metadata": {},
   "source": [
    "Great, we have the same number of observations for each year. Thats promising."
   ]
  },
  {
   "attachments": {},
   "cell_type": "markdown",
   "metadata": {},
   "source": [
    "Now we can merge the data into our dataset created in Homework 1"
   ]
  },
  {
   "cell_type": "code",
   "execution_count": null,
   "metadata": {},
   "outputs": [],
   "source": [
    "# Removing NAME column\n",
    "\n",
    "transformed_scope1_nrg.drop(columns={'NAME'}, inplace=True)\n",
    "transformed_scope2_nrg.drop(columns={'NAME'}, inplace=True)\n",
    "transformed_scope3_nrg.drop(columns={'NAME'}, inplace=True)"
   ]
  },
  {
   "cell_type": "code",
   "execution_count": null,
   "metadata": {},
   "outputs": [],
   "source": [
    "# Merging the dataframes \n",
    "df_nrg_intensity = df_all_energy_monthly_yearly_returns_cap.copy()\n",
    "df_nrg_intensity = pd.merge(df_nrg_intensity, transformed_scope1_nrg, on=['ISIN', 'year'], how='left')\t\n",
    "df_nrg_intensity = pd.merge(df_nrg_intensity, transformed_scope2_nrg, on=['ISIN', 'year'], how='left')\t\n",
    "df_nrg_intensity = pd.merge(df_nrg_intensity, transformed_scope3_nrg, on=['ISIN', 'year'], how='left')\t\n",
    "df_nrg_intensity.head()"
   ]
  },
  {
   "attachments": {},
   "cell_type": "markdown",
   "metadata": {},
   "source": [
    "### Q1\n",
    "\n",
    "Report summary statistics (mean, median, min, max, standard deviation) on the cross-sectional distribution of your group’s variable of interest (i.e. environmental score for groups 1, 9 and 11; social score for groups 2 and 10; governance score for group 3; carbon intensity for groups 4 to 8). Draw the histogram of the cross-sectional distribution of the variable of interest and comment on the summary statistics and the histogram. (10 points)"
   ]
  },
  {
   "cell_type": "code",
   "execution_count": null,
   "metadata": {},
   "outputs": [],
   "source": [
    "sns.histplot(df_nrg_intensity, x='Scope_1')\n",
    "plt.title('Energy Companies Emission Intensity\\nScope 1')\n",
    "plt.xlabel('Tons Co2eq/ Million $')\n",
    "plt.show()\n"
   ]
  },
  {
   "cell_type": "code",
   "execution_count": null,
   "metadata": {},
   "outputs": [],
   "source": [
    "sns.histplot(df_nrg_intensity, x='Scope_2')\n",
    "plt.title('Energy Companies Emission Intensity\\nScope 2')\n",
    "plt.xlabel('Tons Co2eq/ Million $')\n",
    "plt.show()\n"
   ]
  },
  {
   "cell_type": "code",
   "execution_count": null,
   "metadata": {},
   "outputs": [],
   "source": [
    "sns.histplot(df_nrg_intensity, x='Scope_3')\n",
    "plt.title('Energy Companies Emission Intensity\\nScope 3')\n",
    "plt.xlabel('Tons Co2eq/ Million $')\n",
    "plt.show()\n"
   ]
  },
  {
   "attachments": {},
   "cell_type": "markdown",
   "metadata": {},
   "source": [
    "### Q2\n",
    "\n",
    "In Question 4 of Homework 1, you calculated efficient portfolios with various target returns. Take these portfolios, calculate and report the weighted-average E/S/G score or weighted-average carbon intensity of these portfolios (you can take the average score/carbon intensity for each firm over time). Comment on the E/S/G score or carbon intensity of the portfolios. Which firms (e.g. top 10; report firm names along with ISIN) are driving the E/S/G score down or driving the carbon intensity up? Plot on the volatility-E/S/G score (carbon intensity) space the various portfolios (i.e., make a plot similar to the efficient frontier except that E/S/G score or carbon intensity replaces the return on the y-axis). (15 points)\n",
    "\n"
   ]
  },
  {
   "attachments": {},
   "cell_type": "markdown",
   "metadata": {},
   "source": [
    "### Q3\n",
    "\n",
    "This question is a follow-up of Question 7 of Homework 1. First, take the same 100 selected firms. Then, create a minimum variance portfolio with monthly rebalancing with an additional constraint: you exclude the worst firms in terms of E/S/G score/most polluting (high carbon intensity) firms. Specifically, exclude the bottom tercile of the distribution in month t − 1 for ESG scores or exclude the top tercile of the distribution in month t − 1 for the carbon intensity. Report summary statistics on the performance (return, risk, Sharpe ratio) of this portfolio as well as its E/S/G score or carbon intensity. How do the performance measures (return, risk, Sharpe ratio) compare with the minimum variance portfolio from Question 3 of Homework 1. (20 points)"
   ]
  },
  {
   "attachments": {},
   "cell_type": "markdown",
   "metadata": {},
   "source": [
    "### Q4 \n",
    "\n",
    "For each month, sort firms based on your group’s variable of interest (E/S/G scores or carbon intensity) into quintiles. Create equally-weighted and value-weighted portfolios for each time period and each score or carbon intensity quintile. Report the average returns for each quintile portfolio as well as a portfolio that goes long in the highest quintile and short the lowest quintile. Comment on your results. What can explain the relationship between the return of your portfolios and firms’ ESG score or carbon emissions? (25 points)"
   ]
  },
  {
   "attachments": {},
   "cell_type": "markdown",
   "metadata": {},
   "source": [
    "### Q5\n",
    "\n",
    "Take the minimum variance portfolio from Question 3 of Homework 1 and calculate its E/S/G score or carbon intensity. Reallocate its composition in order to improve the E/S/G score by 20%/reduce carbon intensity by 50% (see optimization problem below). Comment on the changes it took in order to improve the ESG score/carbon intensity (e.g., how many and which firms (firm names) had to be removed in the most recent year of your sample in order to achieve these objectives). (30 points)\n",
    "\n",
    "$$\\min_{\\alpha} \\quad \\alpha' \\sum{\\alpha}$$\n",
    "$$\\text{s.a.} \\quad \\alpha' e = 1$$\n",
    "$$\\quad \\quad \\alpha'\\text{CI} \\leq 0.5 \\times \\left( \\alpha' CI \\right)_{Q3-Homework1}$$"
   ]
  },
  {
   "cell_type": "code",
   "execution_count": null,
   "metadata": {},
   "outputs": [],
   "source": []
  }
 ],
 "metadata": {
  "kernelspec": {
   "display_name": "base",
   "language": "python",
   "name": "python3"
  },
  "language_info": {
   "codemirror_mode": {
    "name": "ipython",
    "version": 3
   },
   "file_extension": ".py",
   "mimetype": "text/x-python",
   "name": "python",
   "nbconvert_exporter": "python",
   "pygments_lexer": "ipython3",
   "version": "3.9.13"
  },
  "orig_nbformat": 4
 },
 "nbformat": 4,
 "nbformat_minor": 2
}
