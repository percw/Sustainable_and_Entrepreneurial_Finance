{
 "cells": [
  {
   "cell_type": "code",
   "execution_count": 1,
   "metadata": {},
   "outputs": [],
   "source": [
    "import numpy as np\n",
    "import pandas as pd\n",
    "import matplotlib.pyplot as plt\n",
    "import seaborn as sns\n",
    "import random\n",
    "from scipy.optimize import minimize\n",
    "import prettytable\n",
    "import plotly.graph_objects as go\n",
    "import os\n",
    "import math\n",
    "import plotly.express as px\n",
    "\n",
    "random.seed(0) # Setting random seed to 0\n",
    "%matplotlib inline\n"
   ]
  },
  {
   "attachments": {},
   "cell_type": "markdown",
   "metadata": {},
   "source": [
    "### Sustainable and Entrepreneurial Finance\n",
    "\n",
    "### Assignment 2 - Portfolio decarbonization\n",
    "\n",
    "#### Group 8 - Energy Firms With Available Scope 1 to 3 emissions (TRUCOST)\n",
    "\n",
    "- Charlotte Ahrens\n",
    "- David Campbell\n",
    "- Guillaume Rico\n",
    "- Per Christian Wessel\n"
   ]
  },
  {
   "attachments": {},
   "cell_type": "markdown",
   "metadata": {},
   "source": [
    "### 0 Importing and preparing datasets"
   ]
  },
  {
   "cell_type": "code",
   "execution_count": 2,
   "metadata": {},
   "outputs": [],
   "source": [
    "# Setting path names\n",
    "github_path = 'https://github.com/percw/Sustainable_and_Entrepreneurial_Finance/blob/master'\n",
    "\n",
    "# Scope 1-3 Intensity Paths\n",
    "path_scope1_intensity = f'{github_path}/Data_Excel/Trucost_CO2emissions/scope1intensity.xlsx?raw=true'\n",
    "path_scope2_intensity = f'{github_path}/Data_Excel/Trucost_CO2emissions/scope2intensity.xlsx?raw=true'\n",
    "path_scope3_intensity = f'{github_path}/Data_Excel/Trucost_CO2emissions/scope3intensity.xlsx?raw=true'\n",
    "\n",
    "# Reading df's\n",
    "df_scope1_intensity = pd.read_excel(path_scope1_intensity)\n",
    "df_scope2_intensity = pd.read_excel(path_scope2_intensity)\n",
    "df_scope3_intensity = pd.read_excel(path_scope3_intensity)\n",
    "\n",
    "# Dataframe created during Homework 1 (corresponding to Q2 First df)\n",
    "path_all_energy_monthly_yearly_returns_cap = f'{github_path}/output/all_energy_monthly_yearly_returns_cap.csv?raw=true'\n",
    "df_all_energy_monthly_yearly_returns_cap = pd.read_csv(path_all_energy_monthly_yearly_returns_cap)\n",
    "\n",
    "# Dataframe created during Homework 1 (corresponding to Q2 Second, comparison df with value weighted and equally weighted portfolio)\n",
    "path_all_energy_monthly_yearly_returns_cap_vw = f'{github_path}/output/df_all_energy_monthly_yearly_returns_cap_vw.csv?raw=true'\n",
    "df_all_energy_monthly_yearly_returns_cap_vw = pd.read_csv(path_all_energy_monthly_yearly_returns_cap_vw)\n"
   ]
  },
  {
   "attachments": {},
   "cell_type": "markdown",
   "metadata": {},
   "source": [
    "A little cleaning of the double index column, thus removing `Unnamed: 0`."
   ]
  },
  {
   "cell_type": "code",
   "execution_count": 3,
   "metadata": {},
   "outputs": [
    {
     "data": {
      "text/html": [
       "<div>\n",
       "<style scoped>\n",
       "    .dataframe tbody tr th:only-of-type {\n",
       "        vertical-align: middle;\n",
       "    }\n",
       "\n",
       "    .dataframe tbody tr th {\n",
       "        vertical-align: top;\n",
       "    }\n",
       "\n",
       "    .dataframe thead th {\n",
       "        text-align: right;\n",
       "    }\n",
       "</style>\n",
       "<table border=\"1\" class=\"dataframe\">\n",
       "  <thead>\n",
       "    <tr style=\"text-align: right;\">\n",
       "      <th></th>\n",
       "      <th>date</th>\n",
       "      <th>year</th>\n",
       "      <th>month</th>\n",
       "      <th>ISIN</th>\n",
       "      <th>monthly_return</th>\n",
       "      <th>market_cap</th>\n",
       "      <th>annual_returns</th>\n",
       "    </tr>\n",
       "  </thead>\n",
       "  <tbody>\n",
       "    <tr>\n",
       "      <th>0</th>\n",
       "      <td>2005-01-31</td>\n",
       "      <td>2005</td>\n",
       "      <td>1</td>\n",
       "      <td>AN8068571086</td>\n",
       "      <td>0.012603</td>\n",
       "      <td>NaN</td>\n",
       "      <td>0.468026</td>\n",
       "    </tr>\n",
       "    <tr>\n",
       "      <th>1</th>\n",
       "      <td>2005-02-28</td>\n",
       "      <td>2005</td>\n",
       "      <td>2</td>\n",
       "      <td>AN8068571086</td>\n",
       "      <td>0.063502</td>\n",
       "      <td>NaN</td>\n",
       "      <td>0.468026</td>\n",
       "    </tr>\n",
       "    <tr>\n",
       "      <th>2</th>\n",
       "      <td>2005-03-31</td>\n",
       "      <td>2005</td>\n",
       "      <td>3</td>\n",
       "      <td>AN8068571086</td>\n",
       "      <td>0.093039</td>\n",
       "      <td>NaN</td>\n",
       "      <td>0.468026</td>\n",
       "    </tr>\n",
       "    <tr>\n",
       "      <th>3</th>\n",
       "      <td>2005-04-30</td>\n",
       "      <td>2005</td>\n",
       "      <td>4</td>\n",
       "      <td>AN8068571086</td>\n",
       "      <td>-0.038401</td>\n",
       "      <td>NaN</td>\n",
       "      <td>0.468026</td>\n",
       "    </tr>\n",
       "    <tr>\n",
       "      <th>4</th>\n",
       "      <td>2005-05-31</td>\n",
       "      <td>2005</td>\n",
       "      <td>5</td>\n",
       "      <td>AN8068571086</td>\n",
       "      <td>-0.027085</td>\n",
       "      <td>NaN</td>\n",
       "      <td>0.468026</td>\n",
       "    </tr>\n",
       "  </tbody>\n",
       "</table>\n",
       "</div>"
      ],
      "text/plain": [
       "         date  year  month          ISIN  monthly_return  market_cap  \\\n",
       "0  2005-01-31  2005      1  AN8068571086        0.012603         NaN   \n",
       "1  2005-02-28  2005      2  AN8068571086        0.063502         NaN   \n",
       "2  2005-03-31  2005      3  AN8068571086        0.093039         NaN   \n",
       "3  2005-04-30  2005      4  AN8068571086       -0.038401         NaN   \n",
       "4  2005-05-31  2005      5  AN8068571086       -0.027085         NaN   \n",
       "\n",
       "   annual_returns  \n",
       "0        0.468026  \n",
       "1        0.468026  \n",
       "2        0.468026  \n",
       "3        0.468026  \n",
       "4        0.468026  "
      ]
     },
     "metadata": {},
     "output_type": "display_data"
    }
   ],
   "source": [
    "df_all_energy_monthly_yearly_returns_cap.drop(columns={'Unnamed: 0'}, inplace=True)\n",
    "display(df_all_energy_monthly_yearly_returns_cap.head())"
   ]
  },
  {
   "attachments": {},
   "cell_type": "markdown",
   "metadata": {},
   "source": [
    "Checking out the intensity data and removing the x in the column name"
   ]
  },
  {
   "cell_type": "code",
   "execution_count": 4,
   "metadata": {},
   "outputs": [
    {
     "data": {
      "text/html": [
       "<div>\n",
       "<style scoped>\n",
       "    .dataframe tbody tr th:only-of-type {\n",
       "        vertical-align: middle;\n",
       "    }\n",
       "\n",
       "    .dataframe tbody tr th {\n",
       "        vertical-align: top;\n",
       "    }\n",
       "\n",
       "    .dataframe thead th {\n",
       "        text-align: right;\n",
       "    }\n",
       "</style>\n",
       "<table border=\"1\" class=\"dataframe\">\n",
       "  <thead>\n",
       "    <tr style=\"text-align: right;\">\n",
       "      <th></th>\n",
       "      <th>ISIN</th>\n",
       "      <th>NAME</th>\n",
       "      <th>1999</th>\n",
       "      <th>2000</th>\n",
       "      <th>2001</th>\n",
       "      <th>2002</th>\n",
       "      <th>2003</th>\n",
       "      <th>2004</th>\n",
       "      <th>2005</th>\n",
       "      <th>2006</th>\n",
       "      <th>...</th>\n",
       "      <th>2011</th>\n",
       "      <th>2012</th>\n",
       "      <th>2013</th>\n",
       "      <th>2014</th>\n",
       "      <th>2015</th>\n",
       "      <th>2016</th>\n",
       "      <th>2017</th>\n",
       "      <th>2018</th>\n",
       "      <th>2019</th>\n",
       "      <th>2020</th>\n",
       "    </tr>\n",
       "  </thead>\n",
       "  <tbody>\n",
       "    <tr>\n",
       "      <th>0</th>\n",
       "      <td>AEA000201011</td>\n",
       "      <td>ABU DHABI COML.BANK</td>\n",
       "      <td>NaN</td>\n",
       "      <td>NaN</td>\n",
       "      <td>NaN</td>\n",
       "      <td>NaN</td>\n",
       "      <td>NaN</td>\n",
       "      <td>NaN</td>\n",
       "      <td>NaN</td>\n",
       "      <td>NaN</td>\n",
       "      <td>...</td>\n",
       "      <td>NaN</td>\n",
       "      <td>NaN</td>\n",
       "      <td>0.635512</td>\n",
       "      <td>0.608883</td>\n",
       "      <td>0.628201</td>\n",
       "      <td>0.570183</td>\n",
       "      <td>0.549080</td>\n",
       "      <td>0.441011</td>\n",
       "      <td>0.393496</td>\n",
       "      <td>NaN</td>\n",
       "    </tr>\n",
       "    <tr>\n",
       "      <th>1</th>\n",
       "      <td>AEA000701010</td>\n",
       "      <td>WAHA CAPITAL</td>\n",
       "      <td>NaN</td>\n",
       "      <td>NaN</td>\n",
       "      <td>NaN</td>\n",
       "      <td>NaN</td>\n",
       "      <td>NaN</td>\n",
       "      <td>NaN</td>\n",
       "      <td>NaN</td>\n",
       "      <td>NaN</td>\n",
       "      <td>...</td>\n",
       "      <td>NaN</td>\n",
       "      <td>NaN</td>\n",
       "      <td>19.195644</td>\n",
       "      <td>18.841809</td>\n",
       "      <td>18.853956</td>\n",
       "      <td>18.332604</td>\n",
       "      <td>17.847808</td>\n",
       "      <td>17.351218</td>\n",
       "      <td>17.575886</td>\n",
       "      <td>NaN</td>\n",
       "    </tr>\n",
       "    <tr>\n",
       "      <th>2</th>\n",
       "      <td>AEA000801018</td>\n",
       "      <td>ABU DHABI ISLAMIC BANK</td>\n",
       "      <td>NaN</td>\n",
       "      <td>NaN</td>\n",
       "      <td>NaN</td>\n",
       "      <td>NaN</td>\n",
       "      <td>NaN</td>\n",
       "      <td>NaN</td>\n",
       "      <td>NaN</td>\n",
       "      <td>NaN</td>\n",
       "      <td>...</td>\n",
       "      <td>NaN</td>\n",
       "      <td>NaN</td>\n",
       "      <td>NaN</td>\n",
       "      <td>NaN</td>\n",
       "      <td>NaN</td>\n",
       "      <td>NaN</td>\n",
       "      <td>NaN</td>\n",
       "      <td>0.994607</td>\n",
       "      <td>0.898398</td>\n",
       "      <td>NaN</td>\n",
       "    </tr>\n",
       "    <tr>\n",
       "      <th>3</th>\n",
       "      <td>AEA001201010</td>\n",
       "      <td>AMLAK FINANCE</td>\n",
       "      <td>NaN</td>\n",
       "      <td>NaN</td>\n",
       "      <td>NaN</td>\n",
       "      <td>NaN</td>\n",
       "      <td>NaN</td>\n",
       "      <td>NaN</td>\n",
       "      <td>NaN</td>\n",
       "      <td>NaN</td>\n",
       "      <td>...</td>\n",
       "      <td>NaN</td>\n",
       "      <td>NaN</td>\n",
       "      <td>NaN</td>\n",
       "      <td>NaN</td>\n",
       "      <td>NaN</td>\n",
       "      <td>0.538608</td>\n",
       "      <td>5.759130</td>\n",
       "      <td>6.638521</td>\n",
       "      <td>5.603768</td>\n",
       "      <td>NaN</td>\n",
       "    </tr>\n",
       "    <tr>\n",
       "      <th>4</th>\n",
       "      <td>AEA001501013</td>\n",
       "      <td>ARABTEC HOLDING SUSP - SUSP.30/09/20</td>\n",
       "      <td>NaN</td>\n",
       "      <td>NaN</td>\n",
       "      <td>NaN</td>\n",
       "      <td>NaN</td>\n",
       "      <td>NaN</td>\n",
       "      <td>NaN</td>\n",
       "      <td>NaN</td>\n",
       "      <td>NaN</td>\n",
       "      <td>...</td>\n",
       "      <td>NaN</td>\n",
       "      <td>NaN</td>\n",
       "      <td>26.474273</td>\n",
       "      <td>24.962883</td>\n",
       "      <td>25.033033</td>\n",
       "      <td>24.432088</td>\n",
       "      <td>124.414586</td>\n",
       "      <td>63.504253</td>\n",
       "      <td>61.421360</td>\n",
       "      <td>NaN</td>\n",
       "    </tr>\n",
       "  </tbody>\n",
       "</table>\n",
       "<p>5 rows × 24 columns</p>\n",
       "</div>"
      ],
      "text/plain": [
       "           ISIN                                  NAME  1999  2000  2001  2002  \\\n",
       "0  AEA000201011                   ABU DHABI COML.BANK   NaN   NaN   NaN   NaN   \n",
       "1  AEA000701010                          WAHA CAPITAL   NaN   NaN   NaN   NaN   \n",
       "2  AEA000801018                ABU DHABI ISLAMIC BANK   NaN   NaN   NaN   NaN   \n",
       "3  AEA001201010                         AMLAK FINANCE   NaN   NaN   NaN   NaN   \n",
       "4  AEA001501013  ARABTEC HOLDING SUSP - SUSP.30/09/20   NaN   NaN   NaN   NaN   \n",
       "\n",
       "   2003  2004  2005  2006  ...  2011  2012       2013       2014       2015  \\\n",
       "0   NaN   NaN   NaN   NaN  ...   NaN   NaN   0.635512   0.608883   0.628201   \n",
       "1   NaN   NaN   NaN   NaN  ...   NaN   NaN  19.195644  18.841809  18.853956   \n",
       "2   NaN   NaN   NaN   NaN  ...   NaN   NaN        NaN        NaN        NaN   \n",
       "3   NaN   NaN   NaN   NaN  ...   NaN   NaN        NaN        NaN        NaN   \n",
       "4   NaN   NaN   NaN   NaN  ...   NaN   NaN  26.474273  24.962883  25.033033   \n",
       "\n",
       "        2016        2017       2018       2019  2020  \n",
       "0   0.570183    0.549080   0.441011   0.393496   NaN  \n",
       "1  18.332604   17.847808  17.351218  17.575886   NaN  \n",
       "2        NaN         NaN   0.994607   0.898398   NaN  \n",
       "3   0.538608    5.759130   6.638521   5.603768   NaN  \n",
       "4  24.432088  124.414586  63.504253  61.421360   NaN  \n",
       "\n",
       "[5 rows x 24 columns]"
      ]
     },
     "metadata": {},
     "output_type": "display_data"
    },
    {
     "data": {
      "text/plain": [
       "(17610, 24)"
      ]
     },
     "metadata": {},
     "output_type": "display_data"
    },
    {
     "data": {
      "text/plain": [
       "ISIN        0\n",
       "NAME        0\n",
       "1999    17610\n",
       "2000    17610\n",
       "2001    17610\n",
       "2002    17610\n",
       "2003    17610\n",
       "2004    17610\n",
       "2005    13854\n",
       "2006    13571\n",
       "2007    13435\n",
       "2008    13455\n",
       "2009    13168\n",
       "2010    12997\n",
       "2011    12897\n",
       "2012    12860\n",
       "2013    11982\n",
       "2014    11586\n",
       "2015    11496\n",
       "2016     4108\n",
       "2017     3210\n",
       "2018     2522\n",
       "2019     1947\n",
       "2020    17487\n",
       "dtype: int64"
      ]
     },
     "execution_count": 4,
     "metadata": {},
     "output_type": "execute_result"
    }
   ],
   "source": [
    "df_scope1_intensity.describe()\n",
    "\n",
    "# Replacing the x before every year\n",
    "df_scope1_intensity.columns = df_scope1_intensity.columns.str.replace('x','')\n",
    "display(df_scope1_intensity.head())\n",
    "display(df_scope1_intensity.shape)\n",
    "df_scope1_intensity.isna().sum()"
   ]
  },
  {
   "attachments": {},
   "cell_type": "markdown",
   "metadata": {},
   "source": [
    "We can see that up until 2005 we have only NaNs."
   ]
  },
  {
   "attachments": {},
   "cell_type": "markdown",
   "metadata": {},
   "source": [
    "Lets create a function that takes in a dataframe and transforms all the different year columns into one column named year, and let each ISIN/company have as many observations as years."
   ]
  },
  {
   "cell_type": "code",
   "execution_count": 5,
   "metadata": {},
   "outputs": [],
   "source": [
    "def transform_emission_dataframe(df: pd.DataFrame, id_vars: list, var_name: str, value_name: str) -> pd.DataFrame:\n",
    "    '''\n",
    "    Function that takes in a df frame and melts it on given column names\n",
    "    Returns a dataframe\n",
    "    '''\n",
    "    # Melt the dataframe to convert it from wide to long format\n",
    "    df_long = df.melt(id_vars=id_vars,\n",
    "                      var_name=var_name, value_name=value_name)\n",
    "\n",
    "    # Convert the year column to integer data type\n",
    "    df_long['year'] = df_long['year'].astype(int)\n",
    "\n",
    "    # Drop rows with missing values\n",
    "    df_long.dropna(inplace=True)\n",
    "\n",
    "    # Sort the dataframe by ISIN and year\n",
    "    df_long.sort_values(['year', 'ISIN'], inplace=True)\n",
    "\n",
    "    # Reset the index\n",
    "    df_long.reset_index(drop=True, inplace=True)\n",
    "\n",
    "    # Print the resulting dataframe\n",
    "    return df_long\n"
   ]
  },
  {
   "cell_type": "code",
   "execution_count": 6,
   "metadata": {},
   "outputs": [
    {
     "data": {
      "text/html": [
       "<div>\n",
       "<style scoped>\n",
       "    .dataframe tbody tr th:only-of-type {\n",
       "        vertical-align: middle;\n",
       "    }\n",
       "\n",
       "    .dataframe tbody tr th {\n",
       "        vertical-align: top;\n",
       "    }\n",
       "\n",
       "    .dataframe thead th {\n",
       "        text-align: right;\n",
       "    }\n",
       "</style>\n",
       "<table border=\"1\" class=\"dataframe\">\n",
       "  <thead>\n",
       "    <tr style=\"text-align: right;\">\n",
       "      <th></th>\n",
       "      <th>ISIN</th>\n",
       "      <th>NAME</th>\n",
       "      <th>year</th>\n",
       "      <th>Scope_1</th>\n",
       "    </tr>\n",
       "  </thead>\n",
       "  <tbody>\n",
       "    <tr>\n",
       "      <th>0</th>\n",
       "      <td>AN8068571086</td>\n",
       "      <td>SCHLUMBERGER</td>\n",
       "      <td>2005</td>\n",
       "      <td>135.821686</td>\n",
       "    </tr>\n",
       "    <tr>\n",
       "      <th>1</th>\n",
       "      <td>ARALUA010258</td>\n",
       "      <td>ALUAR</td>\n",
       "      <td>2005</td>\n",
       "      <td>1001.688257</td>\n",
       "    </tr>\n",
       "    <tr>\n",
       "      <th>2</th>\n",
       "      <td>ARBANS010010</td>\n",
       "      <td>BANCO MACRO BANSUD 'B'</td>\n",
       "      <td>2005</td>\n",
       "      <td>1.347260</td>\n",
       "    </tr>\n",
       "    <tr>\n",
       "      <th>3</th>\n",
       "      <td>ARP125991090</td>\n",
       "      <td>BBVA BANCO FRANCES</td>\n",
       "      <td>2005</td>\n",
       "      <td>1.347260</td>\n",
       "    </tr>\n",
       "    <tr>\n",
       "      <th>4</th>\n",
       "      <td>ARSIDE010029</td>\n",
       "      <td>TERNIUM ARGENTINA SOCIEDAD ANONIMA</td>\n",
       "      <td>2005</td>\n",
       "      <td>4276.165626</td>\n",
       "    </tr>\n",
       "  </tbody>\n",
       "</table>\n",
       "</div>"
      ],
      "text/plain": [
       "           ISIN                                NAME  year      Scope_1\n",
       "0  AN8068571086                        SCHLUMBERGER  2005   135.821686\n",
       "1  ARALUA010258                               ALUAR  2005  1001.688257\n",
       "2  ARBANS010010              BANCO MACRO BANSUD 'B'  2005     1.347260\n",
       "3  ARP125991090                  BBVA BANCO FRANCES  2005     1.347260\n",
       "4  ARSIDE010029  TERNIUM ARGENTINA SOCIEDAD ANONIMA  2005  4276.165626"
      ]
     },
     "metadata": {},
     "output_type": "display_data"
    },
    {
     "data": {
      "text/plain": [
       "(111185, 4)"
      ]
     },
     "metadata": {},
     "output_type": "display_data"
    }
   ],
   "source": [
    "transformed_scope1 = transform_emission_dataframe(df_scope1_intensity, id_vars=['ISIN', 'NAME'], var_name='year', value_name='Scope_1')\n",
    "display(transformed_scope1.head())\n",
    "display(transformed_scope1.shape)"
   ]
  },
  {
   "attachments": {},
   "cell_type": "markdown",
   "metadata": {},
   "source": [
    "This looks good. Let's do the same with the Scope 2 and Scope 3 emission intensities as well. First we need to remember to remove the x before all the years."
   ]
  },
  {
   "cell_type": "code",
   "execution_count": 7,
   "metadata": {},
   "outputs": [
    {
     "data": {
      "text/html": [
       "<div>\n",
       "<style scoped>\n",
       "    .dataframe tbody tr th:only-of-type {\n",
       "        vertical-align: middle;\n",
       "    }\n",
       "\n",
       "    .dataframe tbody tr th {\n",
       "        vertical-align: top;\n",
       "    }\n",
       "\n",
       "    .dataframe thead th {\n",
       "        text-align: right;\n",
       "    }\n",
       "</style>\n",
       "<table border=\"1\" class=\"dataframe\">\n",
       "  <thead>\n",
       "    <tr style=\"text-align: right;\">\n",
       "      <th></th>\n",
       "      <th>ISIN</th>\n",
       "      <th>NAME</th>\n",
       "      <th>year</th>\n",
       "      <th>Scope_2</th>\n",
       "    </tr>\n",
       "  </thead>\n",
       "  <tbody>\n",
       "    <tr>\n",
       "      <th>0</th>\n",
       "      <td>AN8068571086</td>\n",
       "      <td>SCHLUMBERGER</td>\n",
       "      <td>2005</td>\n",
       "      <td>15.175818</td>\n",
       "    </tr>\n",
       "    <tr>\n",
       "      <th>1</th>\n",
       "      <td>ARALUA010258</td>\n",
       "      <td>ALUAR</td>\n",
       "      <td>2005</td>\n",
       "      <td>439.145510</td>\n",
       "    </tr>\n",
       "    <tr>\n",
       "      <th>2</th>\n",
       "      <td>ARBANS010010</td>\n",
       "      <td>BANCO MACRO BANSUD 'B'</td>\n",
       "      <td>2005</td>\n",
       "      <td>1.208610</td>\n",
       "    </tr>\n",
       "    <tr>\n",
       "      <th>3</th>\n",
       "      <td>ARP125991090</td>\n",
       "      <td>BBVA BANCO FRANCES</td>\n",
       "      <td>2005</td>\n",
       "      <td>1.208610</td>\n",
       "    </tr>\n",
       "    <tr>\n",
       "      <th>4</th>\n",
       "      <td>ARSIDE010029</td>\n",
       "      <td>TERNIUM ARGENTINA SOCIEDAD ANONIMA</td>\n",
       "      <td>2005</td>\n",
       "      <td>161.437190</td>\n",
       "    </tr>\n",
       "  </tbody>\n",
       "</table>\n",
       "</div>"
      ],
      "text/plain": [
       "           ISIN                                NAME  year     Scope_2\n",
       "0  AN8068571086                        SCHLUMBERGER  2005   15.175818\n",
       "1  ARALUA010258                               ALUAR  2005  439.145510\n",
       "2  ARBANS010010              BANCO MACRO BANSUD 'B'  2005    1.208610\n",
       "3  ARP125991090                  BBVA BANCO FRANCES  2005    1.208610\n",
       "4  ARSIDE010029  TERNIUM ARGENTINA SOCIEDAD ANONIMA  2005  161.437190"
      ]
     },
     "metadata": {},
     "output_type": "display_data"
    },
    {
     "data": {
      "text/plain": [
       "(111185, 4)"
      ]
     },
     "metadata": {},
     "output_type": "display_data"
    },
    {
     "data": {
      "text/html": [
       "<div>\n",
       "<style scoped>\n",
       "    .dataframe tbody tr th:only-of-type {\n",
       "        vertical-align: middle;\n",
       "    }\n",
       "\n",
       "    .dataframe tbody tr th {\n",
       "        vertical-align: top;\n",
       "    }\n",
       "\n",
       "    .dataframe thead th {\n",
       "        text-align: right;\n",
       "    }\n",
       "</style>\n",
       "<table border=\"1\" class=\"dataframe\">\n",
       "  <thead>\n",
       "    <tr style=\"text-align: right;\">\n",
       "      <th></th>\n",
       "      <th>ISIN</th>\n",
       "      <th>NAME</th>\n",
       "      <th>year</th>\n",
       "      <th>Scope_3</th>\n",
       "    </tr>\n",
       "  </thead>\n",
       "  <tbody>\n",
       "    <tr>\n",
       "      <th>0</th>\n",
       "      <td>AN8068571086</td>\n",
       "      <td>SCHLUMBERGER</td>\n",
       "      <td>2005</td>\n",
       "      <td>291.288061</td>\n",
       "    </tr>\n",
       "    <tr>\n",
       "      <th>1</th>\n",
       "      <td>ARALUA010258</td>\n",
       "      <td>ALUAR</td>\n",
       "      <td>2005</td>\n",
       "      <td>685.482154</td>\n",
       "    </tr>\n",
       "    <tr>\n",
       "      <th>2</th>\n",
       "      <td>ARBANS010010</td>\n",
       "      <td>BANCO MACRO BANSUD 'B'</td>\n",
       "      <td>2005</td>\n",
       "      <td>29.090685</td>\n",
       "    </tr>\n",
       "    <tr>\n",
       "      <th>3</th>\n",
       "      <td>ARP125991090</td>\n",
       "      <td>BBVA BANCO FRANCES</td>\n",
       "      <td>2005</td>\n",
       "      <td>29.090685</td>\n",
       "    </tr>\n",
       "    <tr>\n",
       "      <th>4</th>\n",
       "      <td>ARSIDE010029</td>\n",
       "      <td>TERNIUM ARGENTINA SOCIEDAD ANONIMA</td>\n",
       "      <td>2005</td>\n",
       "      <td>862.500679</td>\n",
       "    </tr>\n",
       "  </tbody>\n",
       "</table>\n",
       "</div>"
      ],
      "text/plain": [
       "           ISIN                                NAME  year     Scope_3\n",
       "0  AN8068571086                        SCHLUMBERGER  2005  291.288061\n",
       "1  ARALUA010258                               ALUAR  2005  685.482154\n",
       "2  ARBANS010010              BANCO MACRO BANSUD 'B'  2005   29.090685\n",
       "3  ARP125991090                  BBVA BANCO FRANCES  2005   29.090685\n",
       "4  ARSIDE010029  TERNIUM ARGENTINA SOCIEDAD ANONIMA  2005  862.500679"
      ]
     },
     "metadata": {},
     "output_type": "display_data"
    },
    {
     "data": {
      "text/plain": [
       "(111185, 4)"
      ]
     },
     "metadata": {},
     "output_type": "display_data"
    }
   ],
   "source": [
    "# Removing x from column name\n",
    "df_scope2_intensity.columns = df_scope2_intensity.columns.str.replace('x','')\n",
    "df_scope3_intensity.columns = df_scope3_intensity.columns.str.replace('x','')\n",
    "\n",
    "# Transforming data\n",
    "transformed_scope2 = transform_emission_dataframe(df_scope2_intensity, id_vars=['ISIN', 'NAME'], var_name='year', value_name='Scope_2')\n",
    "transformed_scope3 = transform_emission_dataframe(df_scope3_intensity, id_vars=['ISIN', 'NAME'], var_name='year', value_name='Scope_3')\n",
    "\n",
    "# Displaying data\n",
    "display(transformed_scope2.head())\n",
    "display(transformed_scope2.shape)\n",
    "display(transformed_scope3.head())\n",
    "display(transformed_scope3.shape)"
   ]
  },
  {
   "attachments": {},
   "cell_type": "markdown",
   "metadata": {},
   "source": [
    "Great, now we need to make sure that we only extract the energy companies with sector 'GICSIG'.\n",
    "This we can do by creating a list of all the companies in the dataframe `df_all_energy_monthly_yearly_returns_cap`."
   ]
  },
  {
   "cell_type": "code",
   "execution_count": 8,
   "metadata": {},
   "outputs": [
    {
     "data": {
      "text/plain": [
       "185"
      ]
     },
     "execution_count": 8,
     "metadata": {},
     "output_type": "execute_result"
    }
   ],
   "source": [
    "energy_isin = df_all_energy_monthly_yearly_returns_cap['ISIN'].unique().tolist()\n",
    "len(energy_isin)"
   ]
  },
  {
   "attachments": {},
   "cell_type": "markdown",
   "metadata": {},
   "source": [
    "We have 185 companies different companies, which is coherent with Homework 1. Now we only want to extract the Scope 1-3 data on the companies that have an `ISIN` matching one of the elements in our `energy_isin` list."
   ]
  },
  {
   "cell_type": "code",
   "execution_count": 9,
   "metadata": {},
   "outputs": [
    {
     "data": {
      "text/html": [
       "<div>\n",
       "<style scoped>\n",
       "    .dataframe tbody tr th:only-of-type {\n",
       "        vertical-align: middle;\n",
       "    }\n",
       "\n",
       "    .dataframe tbody tr th {\n",
       "        vertical-align: top;\n",
       "    }\n",
       "\n",
       "    .dataframe thead th {\n",
       "        text-align: right;\n",
       "    }\n",
       "</style>\n",
       "<table border=\"1\" class=\"dataframe\">\n",
       "  <thead>\n",
       "    <tr style=\"text-align: right;\">\n",
       "      <th></th>\n",
       "      <th>ISIN</th>\n",
       "      <th>NAME</th>\n",
       "      <th>year</th>\n",
       "      <th>Scope_1</th>\n",
       "    </tr>\n",
       "  </thead>\n",
       "  <tbody>\n",
       "    <tr>\n",
       "      <th>0</th>\n",
       "      <td>AN8068571086</td>\n",
       "      <td>SCHLUMBERGER</td>\n",
       "      <td>2005</td>\n",
       "      <td>135.821686</td>\n",
       "    </tr>\n",
       "    <tr>\n",
       "      <th>80</th>\n",
       "      <td>AU000000ERA9</td>\n",
       "      <td>ENERGY RES.OF AUS.</td>\n",
       "      <td>2005</td>\n",
       "      <td>534.154310</td>\n",
       "    </tr>\n",
       "    <tr>\n",
       "      <th>130</th>\n",
       "      <td>AU000000ORG5</td>\n",
       "      <td>ORIGIN ENERGY (EX BORAL)</td>\n",
       "      <td>2005</td>\n",
       "      <td>971.659088</td>\n",
       "    </tr>\n",
       "    <tr>\n",
       "      <th>167</th>\n",
       "      <td>AU000000WOR2</td>\n",
       "      <td>WORLEY</td>\n",
       "      <td>2005</td>\n",
       "      <td>8.918778</td>\n",
       "    </tr>\n",
       "    <tr>\n",
       "      <th>186</th>\n",
       "      <td>BE0003816338</td>\n",
       "      <td>EURONAV</td>\n",
       "      <td>2005</td>\n",
       "      <td>1662.157068</td>\n",
       "    </tr>\n",
       "  </tbody>\n",
       "</table>\n",
       "</div>"
      ],
      "text/plain": [
       "             ISIN                      NAME  year      Scope_1\n",
       "0    AN8068571086              SCHLUMBERGER  2005   135.821686\n",
       "80   AU000000ERA9        ENERGY RES.OF AUS.  2005   534.154310\n",
       "130  AU000000ORG5  ORIGIN ENERGY (EX BORAL)  2005   971.659088\n",
       "167  AU000000WOR2                    WORLEY  2005     8.918778\n",
       "186  BE0003816338                   EURONAV  2005  1662.157068"
      ]
     },
     "execution_count": 9,
     "metadata": {},
     "output_type": "execute_result"
    }
   ],
   "source": [
    "transformed_scope1_nrg = transformed_scope1[transformed_scope1['ISIN'].isin(energy_isin)].copy()\n",
    "transformed_scope2_nrg = transformed_scope2[transformed_scope2['ISIN'].isin(energy_isin)].copy()\n",
    "transformed_scope3_nrg = transformed_scope3[transformed_scope3['ISIN'].isin(energy_isin)].copy()\n",
    "transformed_scope1_nrg.head()"
   ]
  },
  {
   "cell_type": "code",
   "execution_count": 10,
   "metadata": {},
   "outputs": [
    {
     "name": "stdout",
     "output_type": "stream",
     "text": [
      "True\n"
     ]
    }
   ],
   "source": [
    "observation_scope1 = transformed_scope1_nrg[['ISIN', 'year']].groupby(['year']).count()\n",
    "observation_scope2 = transformed_scope2_nrg[['ISIN', 'year']].groupby(['year']).count()\n",
    "observation_scope3 = transformed_scope3_nrg[['ISIN', 'year']].groupby(['year']).count()\n",
    "\n",
    "print(observation_scope1.equals(observation_scope2) & observation_scope2.equals(observation_scope3))"
   ]
  },
  {
   "attachments": {},
   "cell_type": "markdown",
   "metadata": {},
   "source": [
    "Great, we have the same number of observations for each year. Thats promising."
   ]
  },
  {
   "attachments": {},
   "cell_type": "markdown",
   "metadata": {},
   "source": [
    "Now we can merge the data into our dataset created in Homework 1"
   ]
  },
  {
   "cell_type": "code",
   "execution_count": 11,
   "metadata": {},
   "outputs": [],
   "source": [
    "# Removing NAME column\n",
    "\n",
    "transformed_scope1_nrg.drop(columns={'NAME'}, inplace=True)\n",
    "transformed_scope2_nrg.drop(columns={'NAME'}, inplace=True)\n",
    "transformed_scope3_nrg.drop(columns={'NAME'}, inplace=True)"
   ]
  },
  {
   "cell_type": "code",
   "execution_count": 12,
   "metadata": {},
   "outputs": [
    {
     "data": {
      "text/html": [
       "<div>\n",
       "<style scoped>\n",
       "    .dataframe tbody tr th:only-of-type {\n",
       "        vertical-align: middle;\n",
       "    }\n",
       "\n",
       "    .dataframe tbody tr th {\n",
       "        vertical-align: top;\n",
       "    }\n",
       "\n",
       "    .dataframe thead th {\n",
       "        text-align: right;\n",
       "    }\n",
       "</style>\n",
       "<table border=\"1\" class=\"dataframe\">\n",
       "  <thead>\n",
       "    <tr style=\"text-align: right;\">\n",
       "      <th></th>\n",
       "      <th>date</th>\n",
       "      <th>year</th>\n",
       "      <th>month</th>\n",
       "      <th>ISIN</th>\n",
       "      <th>monthly_return</th>\n",
       "      <th>market_cap</th>\n",
       "      <th>annual_returns</th>\n",
       "      <th>Scope_1</th>\n",
       "      <th>Scope_2</th>\n",
       "      <th>Scope_3</th>\n",
       "    </tr>\n",
       "  </thead>\n",
       "  <tbody>\n",
       "    <tr>\n",
       "      <th>0</th>\n",
       "      <td>2005-01-31</td>\n",
       "      <td>2005</td>\n",
       "      <td>1</td>\n",
       "      <td>AN8068571086</td>\n",
       "      <td>0.012603</td>\n",
       "      <td>NaN</td>\n",
       "      <td>0.468026</td>\n",
       "      <td>135.821686</td>\n",
       "      <td>15.175818</td>\n",
       "      <td>291.288061</td>\n",
       "    </tr>\n",
       "    <tr>\n",
       "      <th>1</th>\n",
       "      <td>2005-02-28</td>\n",
       "      <td>2005</td>\n",
       "      <td>2</td>\n",
       "      <td>AN8068571086</td>\n",
       "      <td>0.063502</td>\n",
       "      <td>NaN</td>\n",
       "      <td>0.468026</td>\n",
       "      <td>135.821686</td>\n",
       "      <td>15.175818</td>\n",
       "      <td>291.288061</td>\n",
       "    </tr>\n",
       "    <tr>\n",
       "      <th>2</th>\n",
       "      <td>2005-03-31</td>\n",
       "      <td>2005</td>\n",
       "      <td>3</td>\n",
       "      <td>AN8068571086</td>\n",
       "      <td>0.093039</td>\n",
       "      <td>NaN</td>\n",
       "      <td>0.468026</td>\n",
       "      <td>135.821686</td>\n",
       "      <td>15.175818</td>\n",
       "      <td>291.288061</td>\n",
       "    </tr>\n",
       "    <tr>\n",
       "      <th>3</th>\n",
       "      <td>2005-04-30</td>\n",
       "      <td>2005</td>\n",
       "      <td>4</td>\n",
       "      <td>AN8068571086</td>\n",
       "      <td>-0.038401</td>\n",
       "      <td>NaN</td>\n",
       "      <td>0.468026</td>\n",
       "      <td>135.821686</td>\n",
       "      <td>15.175818</td>\n",
       "      <td>291.288061</td>\n",
       "    </tr>\n",
       "    <tr>\n",
       "      <th>4</th>\n",
       "      <td>2005-05-31</td>\n",
       "      <td>2005</td>\n",
       "      <td>5</td>\n",
       "      <td>AN8068571086</td>\n",
       "      <td>-0.027085</td>\n",
       "      <td>NaN</td>\n",
       "      <td>0.468026</td>\n",
       "      <td>135.821686</td>\n",
       "      <td>15.175818</td>\n",
       "      <td>291.288061</td>\n",
       "    </tr>\n",
       "  </tbody>\n",
       "</table>\n",
       "</div>"
      ],
      "text/plain": [
       "         date  year  month          ISIN  monthly_return  market_cap  \\\n",
       "0  2005-01-31  2005      1  AN8068571086        0.012603         NaN   \n",
       "1  2005-02-28  2005      2  AN8068571086        0.063502         NaN   \n",
       "2  2005-03-31  2005      3  AN8068571086        0.093039         NaN   \n",
       "3  2005-04-30  2005      4  AN8068571086       -0.038401         NaN   \n",
       "4  2005-05-31  2005      5  AN8068571086       -0.027085         NaN   \n",
       "\n",
       "   annual_returns     Scope_1    Scope_2     Scope_3  \n",
       "0        0.468026  135.821686  15.175818  291.288061  \n",
       "1        0.468026  135.821686  15.175818  291.288061  \n",
       "2        0.468026  135.821686  15.175818  291.288061  \n",
       "3        0.468026  135.821686  15.175818  291.288061  \n",
       "4        0.468026  135.821686  15.175818  291.288061  "
      ]
     },
     "execution_count": 12,
     "metadata": {},
     "output_type": "execute_result"
    }
   ],
   "source": [
    "# Merging the dataframes \n",
    "df_nrg_intensity = df_all_energy_monthly_yearly_returns_cap.copy()\n",
    "df_nrg_intensity = pd.merge(df_nrg_intensity, transformed_scope1_nrg, on=['ISIN', 'year'], how='left')\t\n",
    "df_nrg_intensity = pd.merge(df_nrg_intensity, transformed_scope2_nrg, on=['ISIN', 'year'], how='left')\t\n",
    "df_nrg_intensity = pd.merge(df_nrg_intensity, transformed_scope3_nrg, on=['ISIN', 'year'], how='left')\t\n",
    "df_nrg_intensity.head()"
   ]
  },
  {
   "attachments": {},
   "cell_type": "markdown",
   "metadata": {},
   "source": [
    "We want to find all the energy companies that has consistent Scope 1-3 data, that means that we want to remove all the observations where a company has joined later on or dropped out or both during the period 2005 and 2020."
   ]
  },
  {
   "cell_type": "code",
   "execution_count": 127,
   "metadata": {},
   "outputs": [
    {
     "name": "stdout",
     "output_type": "stream",
     "text": [
      "Number of companies with consistent data: 105\n"
     ]
    }
   ],
   "source": [
    "# Grouping by ISIN and year and counting the number of ISIN for each, has to be 15\n",
    "isin_with_all_scope_1_data = (transformed_scope1_nrg[['ISIN', 'year']].groupby(['ISIN']).count() == 15)\n",
    "isin_scope_1_list = isin_with_all_scope_1_data[isin_with_all_scope_1_data['year'] == True].index.tolist()\n",
    "\n",
    "# Displaying number of companies with coherent data over the time period\n",
    "print(f'Number of companies with consistent data: {len(isin_scope_1_list)}')"
   ]
  },
  {
   "attachments": {},
   "cell_type": "markdown",
   "metadata": {},
   "source": [
    "Now we can do the same with Scope 2 and Scope 3"
   ]
  },
  {
   "cell_type": "code",
   "execution_count": 128,
   "metadata": {},
   "outputs": [
    {
     "name": "stdout",
     "output_type": "stream",
     "text": [
      "Number of companies with consistent data: 105\n",
      "Number of companies with consistent data: 105\n",
      "The companies are the same!\n"
     ]
    }
   ],
   "source": [
    "# Grouping by ISIN and year and counting the number of ISIN for each, has to be 15\n",
    "isin_with_all_scope_2_data = (transformed_scope2_nrg[['ISIN', 'year']].groupby(['ISIN']).count() == 15)\n",
    "isin_with_all_scope_3_data = (transformed_scope3_nrg[['ISIN', 'year']].groupby(['ISIN']).count() == 15)\n",
    "isin_scope_2_list = isin_with_all_scope_2_data[isin_with_all_scope_2_data['year'] == True].index.tolist()\n",
    "isin_scope_3_list = isin_with_all_scope_3_data[isin_with_all_scope_3_data['year'] == True].index.tolist()\n",
    "\n",
    "# Displaying number of companies with coherent data over the time period\n",
    "print(f'Number of companies with consistent data: {len(isin_scope_2_list)}')\n",
    "print(f'Number of companies with consistent data: {len(isin_scope_3_list)}')\n",
    "\n",
    "if isin_scope_1_list == isin_scope_2_list == isin_scope_3_list:\n",
    "\tprint('The companies are the same!')"
   ]
  },
  {
   "attachments": {},
   "cell_type": "markdown",
   "metadata": {},
   "source": [
    "Now, we can extract only these companies to our new dataframe."
   ]
  },
  {
   "cell_type": "code",
   "execution_count": 116,
   "metadata": {},
   "outputs": [
    {
     "data": {
      "text/html": [
       "<div>\n",
       "<style scoped>\n",
       "    .dataframe tbody tr th:only-of-type {\n",
       "        vertical-align: middle;\n",
       "    }\n",
       "\n",
       "    .dataframe tbody tr th {\n",
       "        vertical-align: top;\n",
       "    }\n",
       "\n",
       "    .dataframe thead th {\n",
       "        text-align: right;\n",
       "    }\n",
       "</style>\n",
       "<table border=\"1\" class=\"dataframe\">\n",
       "  <thead>\n",
       "    <tr style=\"text-align: right;\">\n",
       "      <th></th>\n",
       "      <th>date</th>\n",
       "      <th>year</th>\n",
       "      <th>month</th>\n",
       "      <th>ISIN</th>\n",
       "      <th>monthly_return</th>\n",
       "      <th>market_cap</th>\n",
       "      <th>annual_returns</th>\n",
       "      <th>Scope_1</th>\n",
       "      <th>Scope_2</th>\n",
       "      <th>Scope_3</th>\n",
       "    </tr>\n",
       "  </thead>\n",
       "  <tbody>\n",
       "    <tr>\n",
       "      <th>0</th>\n",
       "      <td>2005-01-31</td>\n",
       "      <td>2005</td>\n",
       "      <td>1</td>\n",
       "      <td>AN8068571086</td>\n",
       "      <td>0.012603</td>\n",
       "      <td>NaN</td>\n",
       "      <td>0.468026</td>\n",
       "      <td>135.821686</td>\n",
       "      <td>15.175818</td>\n",
       "      <td>291.288061</td>\n",
       "    </tr>\n",
       "    <tr>\n",
       "      <th>1</th>\n",
       "      <td>2005-02-28</td>\n",
       "      <td>2005</td>\n",
       "      <td>2</td>\n",
       "      <td>AN8068571086</td>\n",
       "      <td>0.063502</td>\n",
       "      <td>NaN</td>\n",
       "      <td>0.468026</td>\n",
       "      <td>135.821686</td>\n",
       "      <td>15.175818</td>\n",
       "      <td>291.288061</td>\n",
       "    </tr>\n",
       "    <tr>\n",
       "      <th>2</th>\n",
       "      <td>2005-03-31</td>\n",
       "      <td>2005</td>\n",
       "      <td>3</td>\n",
       "      <td>AN8068571086</td>\n",
       "      <td>0.093039</td>\n",
       "      <td>NaN</td>\n",
       "      <td>0.468026</td>\n",
       "      <td>135.821686</td>\n",
       "      <td>15.175818</td>\n",
       "      <td>291.288061</td>\n",
       "    </tr>\n",
       "    <tr>\n",
       "      <th>3</th>\n",
       "      <td>2005-04-30</td>\n",
       "      <td>2005</td>\n",
       "      <td>4</td>\n",
       "      <td>AN8068571086</td>\n",
       "      <td>-0.038401</td>\n",
       "      <td>NaN</td>\n",
       "      <td>0.468026</td>\n",
       "      <td>135.821686</td>\n",
       "      <td>15.175818</td>\n",
       "      <td>291.288061</td>\n",
       "    </tr>\n",
       "    <tr>\n",
       "      <th>4</th>\n",
       "      <td>2005-05-31</td>\n",
       "      <td>2005</td>\n",
       "      <td>5</td>\n",
       "      <td>AN8068571086</td>\n",
       "      <td>-0.027085</td>\n",
       "      <td>NaN</td>\n",
       "      <td>0.468026</td>\n",
       "      <td>135.821686</td>\n",
       "      <td>15.175818</td>\n",
       "      <td>291.288061</td>\n",
       "    </tr>\n",
       "  </tbody>\n",
       "</table>\n",
       "</div>"
      ],
      "text/plain": [
       "         date  year  month          ISIN  monthly_return  market_cap  \\\n",
       "0  2005-01-31  2005      1  AN8068571086        0.012603         NaN   \n",
       "1  2005-02-28  2005      2  AN8068571086        0.063502         NaN   \n",
       "2  2005-03-31  2005      3  AN8068571086        0.093039         NaN   \n",
       "3  2005-04-30  2005      4  AN8068571086       -0.038401         NaN   \n",
       "4  2005-05-31  2005      5  AN8068571086       -0.027085         NaN   \n",
       "\n",
       "   annual_returns     Scope_1    Scope_2     Scope_3  \n",
       "0        0.468026  135.821686  15.175818  291.288061  \n",
       "1        0.468026  135.821686  15.175818  291.288061  \n",
       "2        0.468026  135.821686  15.175818  291.288061  \n",
       "3        0.468026  135.821686  15.175818  291.288061  \n",
       "4        0.468026  135.821686  15.175818  291.288061  "
      ]
     },
     "execution_count": 116,
     "metadata": {},
     "output_type": "execute_result"
    }
   ],
   "source": [
    "df_nrg_intensity_all_years = df_nrg_intensity[df_nrg_intensity['ISIN'].isin(isin_scope_1_list)].copy()"
   ]
  },
  {
   "attachments": {},
   "cell_type": "markdown",
   "metadata": {},
   "source": [
    "It would also be interesting to compare the companies that for some reason does not have data or was delisted, acquired etc. Some of them might be younger, and entered the database later."
   ]
  },
  {
   "cell_type": "code",
   "execution_count": 130,
   "metadata": {},
   "outputs": [
    {
     "name": "stdout",
     "output_type": "stream",
     "text": [
      "Number of companies with consistent data: 80\n",
      "The companies are the same!\n"
     ]
    }
   ],
   "source": [
    "isin_scope_1_list_no_coherence = isin_with_all_scope_1_data[isin_with_all_scope_1_data['year'] == False].index.tolist()\n",
    "isin_scope_2_list_no_coherence = isin_with_all_scope_2_data[isin_with_all_scope_2_data['year'] == False].index.tolist()\n",
    "isin_scope_3_list_no_coherence = isin_with_all_scope_3_data[isin_with_all_scope_3_data['year'] == False].index.tolist()\n",
    "\n",
    "print(f'Number of companies with consistent data: {len(isin_scope_1_list_no_coherence)}')\n",
    "if isin_scope_1_list_no_coherence == isin_scope_2_list_no_coherence == isin_scope_3_list_no_coherence:\n",
    "\tprint('The companies are the same!')\n"
   ]
  },
  {
   "cell_type": "code",
   "execution_count": 131,
   "metadata": {},
   "outputs": [],
   "source": [
    "df_nrg_intensity_corrupt = df_nrg_intensity[df_nrg_intensity['ISIN'].isin(isin_scope_1_list_no_coherence)].copy()"
   ]
  },
  {
   "attachments": {},
   "cell_type": "markdown",
   "metadata": {},
   "source": [
    "### Q1\n",
    "\n",
    "Report summary statistics (mean, median, min, max, standard deviation) on the cross-sectional distribution of your group’s variable of interest (i.e. environmental score for groups 1, 9 and 11; social score for groups 2 and 10; governance score for group 3; carbon intensity for groups 4 to 8). Draw the histogram of the cross-sectional distribution of the variable of interest and comment on the summary statistics and the histogram. (10 points)"
   ]
  },
  {
   "cell_type": "code",
   "execution_count": 48,
   "metadata": {},
   "outputs": [
    {
     "data": {
      "text/html": [
       "<div>\n",
       "<style scoped>\n",
       "    .dataframe tbody tr th:only-of-type {\n",
       "        vertical-align: middle;\n",
       "    }\n",
       "\n",
       "    .dataframe tbody tr th {\n",
       "        vertical-align: top;\n",
       "    }\n",
       "\n",
       "    .dataframe thead th {\n",
       "        text-align: right;\n",
       "    }\n",
       "</style>\n",
       "<table border=\"1\" class=\"dataframe\">\n",
       "  <thead>\n",
       "    <tr style=\"text-align: right;\">\n",
       "      <th></th>\n",
       "      <th>Scope_1</th>\n",
       "      <th>Scope_2</th>\n",
       "      <th>Scope_3</th>\n",
       "    </tr>\n",
       "  </thead>\n",
       "  <tbody>\n",
       "    <tr>\n",
       "      <th>count</th>\n",
       "      <td>27288.000000</td>\n",
       "      <td>27288.000000</td>\n",
       "      <td>27288.000000</td>\n",
       "    </tr>\n",
       "    <tr>\n",
       "      <th>mean</th>\n",
       "      <td>618.726800</td>\n",
       "      <td>65.559565</td>\n",
       "      <td>260.644822</td>\n",
       "    </tr>\n",
       "    <tr>\n",
       "      <th>std</th>\n",
       "      <td>1885.766912</td>\n",
       "      <td>132.485588</td>\n",
       "      <td>174.159634</td>\n",
       "    </tr>\n",
       "    <tr>\n",
       "      <th>min</th>\n",
       "      <td>1.043770</td>\n",
       "      <td>0.000000</td>\n",
       "      <td>22.474771</td>\n",
       "    </tr>\n",
       "    <tr>\n",
       "      <th>25%</th>\n",
       "      <td>144.214968</td>\n",
       "      <td>15.537688</td>\n",
       "      <td>115.692207</td>\n",
       "    </tr>\n",
       "    <tr>\n",
       "      <th>50%</th>\n",
       "      <td>280.859198</td>\n",
       "      <td>36.125318</td>\n",
       "      <td>239.079742</td>\n",
       "    </tr>\n",
       "    <tr>\n",
       "      <th>75%</th>\n",
       "      <td>506.347787</td>\n",
       "      <td>56.672995</td>\n",
       "      <td>362.296218</td>\n",
       "    </tr>\n",
       "    <tr>\n",
       "      <th>max</th>\n",
       "      <td>43437.143281</td>\n",
       "      <td>2772.090643</td>\n",
       "      <td>1591.505341</td>\n",
       "    </tr>\n",
       "  </tbody>\n",
       "</table>\n",
       "</div>"
      ],
      "text/plain": [
       "            Scope_1       Scope_2       Scope_3\n",
       "count  27288.000000  27288.000000  27288.000000\n",
       "mean     618.726800     65.559565    260.644822\n",
       "std     1885.766912    132.485588    174.159634\n",
       "min        1.043770      0.000000     22.474771\n",
       "25%      144.214968     15.537688    115.692207\n",
       "50%      280.859198     36.125318    239.079742\n",
       "75%      506.347787     56.672995    362.296218\n",
       "max    43437.143281   2772.090643   1591.505341"
      ]
     },
     "metadata": {},
     "output_type": "display_data"
    }
   ],
   "source": [
    "scopes = ['Scope_1', 'Scope_2', 'Scope_3']\n",
    "\n",
    "display(df_nrg_intensity[scopes].describe())"
   ]
  },
  {
   "attachments": {},
   "cell_type": "markdown",
   "metadata": {},
   "source": [
    "Let's plot the histogram for the selected energy companies of interest."
   ]
  },
  {
   "cell_type": "code",
   "execution_count": 206,
   "metadata": {},
   "outputs": [
    {
     "data": {
      "image/png": "[encoded data removed]",
      "text/plain": [
       "<Figure size 1500x500 with 3 Axes>"
      ]
     },
     "metadata": {},
     "output_type": "display_data"
    }
   ],
   "source": [
    "\n",
    "def get_hist_plot(data: pd.DataFrame, columns: list[str], title='Histogram', color=None):\n",
    "    '''\n",
    "    Function that creates a histogram plot on the given data for the given columns.\n",
    "    xticks_rotation: rotation of xticks in degrees\n",
    "    '''\n",
    "    fig, axs = plt.subplots(nrows=1, ncols=len(columns), figsize=(15, 5))\n",
    "\n",
    "    # Plot each set of data in a different subplot\n",
    "    for i, col in enumerate(columns):\n",
    "        # Calculate x-limits based on data in the column\n",
    "        x_min = data[col].min()\n",
    "        x_max = data[col].max()\n",
    "        x_range = x_max - x_min\n",
    "        x_min = max(0, x_min - 0.1 * x_range)\n",
    "        x_max += 0.1 * x_range\n",
    "        axs[i].hist(data[col], bins=20, edgecolor='black', linewidth=1.2, color=color)\n",
    "        axs[i].set_xlim([x_min, x_max])\n",
    "        axs[i].set_title(col.replace('_', ' '), fontsize=12)\n",
    "        axs[i].set_xlabel('Tons (CO2eq) / Million (US$)', fontsize=12)\n",
    "        axs[i].set_ylabel('# companies', fontsize=12)\n",
    "        axs[i].tick_params(axis='both', which='major', labelsize=10)\n",
    "        axs[i].grid(axis='y', alpha=0.5)\n",
    "        axs[i].spines['right'].set_visible(False)\n",
    "        axs[i].spines['top'].set_visible(False)\n",
    "    fig.suptitle(title, fontsize=16, y=1.05)\n",
    "    # Increase spacing between subplots\n",
    "    fig.subplots_adjust(wspace=0.4)\n",
    "    return plt\n",
    "\n",
    "get_hist_plot(data=df_nrg_intensity, columns=scopes, title='Carbon Intensity for all 185 companies').show()\n"
   ]
  },
  {
   "cell_type": "code",
   "execution_count": 149,
   "metadata": {},
   "outputs": [
    {
     "data": {
      "image/png": "[encoded data removed]",
      "text/plain": [
       "<Figure size 1500x500 with 3 Axes>"
      ]
     },
     "metadata": {},
     "output_type": "display_data"
    }
   ],
   "source": [
    "get_hist_plot(data=df_nrg_intensity_all_years, columns=scopes, title='Carbon Intensity\\n For 105 Companies with consistent data (2005-2020)').show()\n",
    "\n"
   ]
  },
  {
   "cell_type": "code",
   "execution_count": 150,
   "metadata": {},
   "outputs": [
    {
     "data": {
      "image/png": "[encoded data removed]",
      "text/plain": [
       "<Figure size 1500x500 with 3 Axes>"
      ]
     },
     "metadata": {},
     "output_type": "display_data"
    }
   ],
   "source": [
    "q1_inconsistent_graph = get_hist_plot(data=df_nrg_intensity_corrupt, columns=scopes, title='Carbon Intensity\\n For 85 Companies with inconsistent data (2005-2020)', color='red')\n",
    "q1_inconsistent_graph.show()"
   ]
  },
  {
   "attachments": {},
   "cell_type": "markdown",
   "metadata": {},
   "source": [
    "### Q2\n",
    "\n",
    "In Question 4 of Homework 1, you calculated efficient portfolios with various target returns. Take these portfolios, calculate and report the weighted-average E/S/G score or weighted-average carbon intensity of these portfolios (you can take the average score/carbon intensity for each firm over time). Comment on the E/S/G score or carbon intensity of the portfolios. Which firms (e.g. top 10; report firm names along with ISIN) are driving the E/S/G score down or driving the carbon intensity up? Plot on the volatility-E/S/G score (carbon intensity) space the various portfolios (i.e., make a plot similar to the efficient frontier except that E/S/G score or carbon intensity replaces the return on the y-axis). (15 points)\n",
    "\n"
   ]
  },
  {
   "attachments": {},
   "cell_type": "markdown",
   "metadata": {},
   "source": [
    "### Q3\n",
    "\n",
    "This question is a follow-up of Question 7 of Homework 1. First, take the same 100 selected firms. Then, create a minimum variance portfolio with monthly rebalancing with an additional constraint: you exclude the worst firms in terms of E/S/G score/most polluting (high carbon intensity) firms. Specifically, exclude the bottom tercile of the distribution in month t − 1 for ESG scores or exclude the top tercile of the distribution in month t − 1 for the carbon intensity. Report summary statistics on the performance (return, risk, Sharpe ratio) of this portfolio as well as its E/S/G score or carbon intensity. How do the performance measures (return, risk, Sharpe ratio) compare with the minimum variance portfolio from Question 3 of Homework 1. (20 points)"
   ]
  },
  {
   "attachments": {},
   "cell_type": "markdown",
   "metadata": {},
   "source": [
    "### Q4 \n",
    "\n",
    "For each month, sort firms based on your group’s variable of interest (E/S/G scores or carbon intensity) into quintiles. Create equally-weighted and value-weighted portfolios for each time period and each score or carbon intensity quintile. Report the average returns for each quintile portfolio as well as a portfolio that goes long in the highest quintile and short the lowest quintile. Comment on your results. What can explain the relationship between the return of your portfolios and firms’ ESG score or carbon emissions? (25 points)"
   ]
  },
  {
   "attachments": {},
   "cell_type": "markdown",
   "metadata": {},
   "source": [
    "### Q5\n",
    "\n",
    "Take the minimum variance portfolio from Question 3 of Homework 1 and calculate its E/S/G score or carbon intensity. Reallocate its composition in order to improve the E/S/G score by 20%/reduce carbon intensity by 50% (see optimization problem below). Comment on the changes it took in order to improve the ESG score/carbon intensity (e.g., how many and which firms (firm names) had to be removed in the most recent year of your sample in order to achieve these objectives). (30 points)\n",
    "\n",
    "$$\\min_{\\alpha} \\quad \\alpha' \\sum{\\alpha}$$\n",
    "$$\\text{s.a.} \\quad \\alpha' e = 1$$\n",
    "$$\\quad \\quad \\alpha'\\text{CI} \\leq 0.5 \\times \\left( \\alpha' CI \\right)_{Q3-Homework1}$$"
   ]
  },
  {
   "cell_type": "code",
   "execution_count": null,
   "metadata": {},
   "outputs": [],
   "source": []
  }
 ],
 "metadata": {
  "kernelspec": {
   "display_name": "base",
   "language": "python",
   "name": "python3"
  },
  "language_info": {
   "codemirror_mode": {
    "name": "ipython",
    "version": 3
   },
   "file_extension": ".py",
   "mimetype": "text/x-python",
   "name": "python",
   "nbconvert_exporter": "python",
   "pygments_lexer": "ipython3",
   "version": "3.9.13"
  },
  "orig_nbformat": 4
 },
 "nbformat": 4,
 "nbformat_minor": 2
}
